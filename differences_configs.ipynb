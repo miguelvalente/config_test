{
 "cells": [
  {
   "cell_type": "code",
   "execution_count": 1,
   "metadata": {},
   "outputs": [],
   "source": [
    "import configparser\n",
    "import yaml"
   ]
  },
  {
   "cell_type": "code",
   "execution_count": 2,
   "metadata": {},
   "outputs": [],
   "source": [
    "config_parser = configparser.ConfigParser()\n",
    "config_parser.read('replicate_spatial.config')\n",
    "\n",
    "with open('easy.yaml', 'r') as c:\n",
    "        config_yaml = yaml.safe_load(c)\n"
   ]
  },
  {
   "cell_type": "code",
   "execution_count": 3,
   "metadata": {},
   "outputs": [
    {
     "name": "stdout",
     "output_type": "stream",
     "text": [
      "Key: type\n",
      "Value: base_spatial\n",
      "Type: <class 'str'>\n",
      "\n",
      "Key: classes\n",
      "Value: violence,neutral\n",
      "Type: <class 'str'>\n",
      "\n",
      "Key: batch_size\n",
      "Value: 4\n",
      "Type: <class 'int'>\n",
      "\n",
      "Key: epochs\n",
      "Value: 5\n",
      "Type: <class 'int'>\n",
      "\n",
      "Key: loss\n",
      "Value: crossentropy\n",
      "Type: <class 'str'>\n",
      "\n",
      "Key: dropout\n",
      "Value: 0.5\n",
      "Type: <class 'float'>\n",
      "\n",
      "Key: augmentation\n",
      "Value: True\n",
      "Type: <class 'bool'>\n",
      "\n",
      "Key: sampling_factors\n",
      "Value: 1:1\n",
      "Type: <class 'str'>\n",
      "\n",
      "Key: freeze_batchnorm\n",
      "Value: validation\n",
      "Type: <class 'str'>\n",
      "\n",
      "Key: optimizer\n",
      "Value: adam\n",
      "Type: <class 'str'>\n",
      "\n",
      "Key: seed\n",
      "Value: 99\n",
      "Type: <class 'int'>\n",
      "\n",
      "Key: big_float\n",
      "Value: 3e-11\n",
      "Type: <class 'float'>\n",
      "\n"
     ]
    }
   ],
   "source": [
    "for key in config_yaml.keys():\n",
    "    print(f'Key: {key}\\nValue: {config_yaml.get(key)}\\nType: {type(config_yaml.get(key))}\\n')"
   ]
  },
  {
   "cell_type": "code",
   "execution_count": 4,
   "metadata": {},
   "outputs": [
    {
     "name": "stdout",
     "output_type": "stream",
     "text": [
      "Key: type\n",
      "Value: base_spatial\n",
      "Type: <class 'str'>\n",
      "\n",
      "Key: classes\n",
      "Value: violence,neutral\n",
      "Type: <class 'str'>\n",
      "\n",
      "Key: batch_size\n",
      "Value: 4\n",
      "Type: <class 'int'>\n",
      "\n",
      "Key: optimizer\n",
      "Value: adam\n",
      "Type: <class 'str'>\n",
      "\n",
      "Key: weight_decay\n",
      "Value: 0.5\n",
      "Type: <class 'NoneType'>\n",
      "\n",
      "Key: loss\n",
      "Value: crossentropy\n",
      "Type: <class 'str'>\n",
      "\n",
      "Key: lr\n",
      "Value: 0.1\n",
      "Type: <class 'NoneType'>\n",
      "\n",
      "Key: lr_schedule\n",
      "Value: cosinedecay\n",
      "Type: <class 'NoneType'>\n",
      "\n",
      "Key: epochs\n",
      "Value: 10\n",
      "Type: <class 'int'>\n",
      "\n",
      "Key: augmentation\n",
      "Value: yes\n",
      "Type: <class 'bool'>\n",
      "\n",
      "Key: sampling_factors\n",
      "Value: 1:1\n",
      "Type: <class 'str'>\n",
      "\n",
      "Key: dropout\n",
      "Value: 0.5\n",
      "Type: <class 'float'>\n",
      "\n",
      "Key: big_float\n",
      "Value: 000.00000000003\n",
      "Type: <class 'float'>\n",
      "\n"
     ]
    }
   ],
   "source": [
    "train_config = config_parser['training']\n",
    "for key in train_config.keys():\n",
    "    print(f'Key: {key}\\nValue: {train_config.get(key)}\\nType: {type(config_yaml.get(key))}\\n')"
   ]
  },
  {
   "cell_type": "code",
   "execution_count": 5,
   "metadata": {},
   "outputs": [
    {
     "name": "stdout",
     "output_type": "stream",
     "text": [
      "value: 3e-11 type: <class 'float'>\n",
      "value: 3e-11 type: <class 'float'>\n"
     ]
    }
   ],
   "source": [
    "big1 = config_yaml.get(\"big_float\")\n",
    "big2 = train_config.getfloat('big_float')\n",
    "print(f'value: {big1} type: {type(big1)}')\n",
    "print(f'value: {big2} type: {type(big2)}')"
   ]
  },
  {
   "cell_type": "markdown",
   "metadata": {},
   "source": [
    "# Testing fallbacks"
   ]
  },
  {
   "cell_type": "code",
   "execution_count": 6,
   "metadata": {},
   "outputs": [
    {
     "name": "stdout",
     "output_type": "stream",
     "text": [
      "value: 1e-14 type: <class 'float'>\n",
      "value: 1e-14 type: <class 'float'>\n"
     ]
    }
   ],
   "source": [
    "eps1 = train_config.getfloat('epsilon', fallback=1e-14)\n",
    "eps2 = config_yaml.get('epsilon', 1e-14)\n",
    "print(f'value: {eps1} type: {type(eps1)}')\n",
    "print(f'value: {eps2} type: {type(eps2)}')"
   ]
  },
  {
   "cell_type": "code",
   "execution_count": 7,
   "metadata": {},
   "outputs": [
    {
     "name": "stdout",
     "output_type": "stream",
     "text": [
      "value: validation type: <class 'str'>\n",
      "value: validation type: <class 'str'>\n"
     ]
    }
   ],
   "source": [
    "freeze1 = config_yaml.get(\"freeze\", 'validation')\n",
    "freeze2 = train_config.getfloat('freeze', 'validation')\n",
    "print(f'value: {freeze1} type: {type(freeze1)}')\n",
    "print(f'value: {freeze2} type: {type(freeze2)}')"
   ]
  },
  {
   "cell_type": "code",
   "execution_count": 8,
   "metadata": {},
   "outputs": [
    {
     "name": "stdout",
     "output_type": "stream",
     "text": [
      "value: 0 type: <class 'int'>\n",
      "value: 0 type: <class 'int'>\n"
     ]
    }
   ],
   "source": [
    "mom1 = config_yaml.get(\"momentum\", 0)\n",
    "mom2 = train_config.getfloat('momentum', 0)\n",
    "print(f'value: {mom1} type: {type(mom1)}')\n",
    "print(f'value: {mom2} type: {type(mom2)}')"
   ]
  }
 ],
 "metadata": {
  "interpreter": {
   "hash": "e7370f93d1d0cde622a1f8e1c04877d8463912d04d973331ad4851f04de6915a"
  },
  "kernelspec": {
   "display_name": "Python 3.10.4 64-bit",
   "language": "python",
   "name": "python3"
  },
  "language_info": {
   "codemirror_mode": {
    "name": "ipython",
    "version": 3
   },
   "file_extension": ".py",
   "mimetype": "text/x-python",
   "name": "python",
   "nbconvert_exporter": "python",
   "pygments_lexer": "ipython3",
   "version": "3.10.4"
  },
  "orig_nbformat": 4
 },
 "nbformat": 4,
 "nbformat_minor": 2
}
